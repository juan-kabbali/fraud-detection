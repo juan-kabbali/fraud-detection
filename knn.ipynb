{
 "cells": [
  {
   "cell_type": "code",
   "execution_count": 9,
   "id": "compliant-comment",
   "metadata": {
    "pycharm": {
     "is_executing": false
    }
   },
   "outputs": [],
   "source": [
    "import pandas as pd\n",
    "import numpy as np\n",
    "from sklearn.metrics import confusion_matrix,f1_score,classification_report\n",
    "from sklearn.neighbors import KNeighborsClassifier\n",
    "from sklearn.ensemble import BaggingClassifier\n",
    "import seaborn as sns\n",
    "import matplotlib.pyplot as plt"
   ]
  },
  {
   "cell_type": "code",
   "execution_count": 2,
   "id": "white-camera",
   "metadata": {},
   "outputs": [],
   "source": [
    "balanced = pd.read_csv(\"data/balanced_train.csv\", sep=\";\", decimal=',')\n",
    "balanced.drop(['zibzin', 'idavisautorisationcheque','datetransaction'], axis=1, inplace=True)"
   ]
  },
  {
   "cell_type": "code",
   "execution_count": 3,
   "id": "increased-introduction",
   "metadata": {},
   "outputs": [],
   "source": [
    "y_train=np.array(balanced['flagimpaye'])\n",
    "x_train=balanced.drop(['flagimpaye'], axis=1)"
   ]
  },
  {
   "cell_type": "code",
   "execution_count": 4,
   "id": "desirable-plane",
   "metadata": {},
   "outputs": [],
   "source": [
    "test = pd.read_csv(\"data/test.csv\", sep=\";\", decimal=',')\n",
    "test.drop(['zibzin', 'idavisautorisationcheque','datetransaction'], axis=1, inplace=True)\n",
    "y_test=np.array(test['flagimpaye'])\n",
    "x_test=test.drop(['flagimpaye'], axis=1)"
   ]
  },
  {
   "cell_type": "code",
   "execution_count": 5,
   "id": "rational-hearing",
   "metadata": {},
   "outputs": [
    {
     "data": {
      "text/plain": [
       "BaggingClassifier(base_estimator=KNeighborsClassifier(), max_features=0.3,\n",
       "                  max_samples=0.8, n_estimators=100)"
      ]
     },
     "execution_count": 5,
     "metadata": {},
     "output_type": "execute_result"
    }
   ],
   "source": [
    "bagging = BaggingClassifier(base_estimator=KNeighborsClassifier(),n_estimators=100,max_samples=0.8, max_features=0.3)\n",
    "bagging.fit(x_train, y_train)"
   ]
  },
  {
   "cell_type": "code",
   "execution_count": 6,
   "id": "boxed-musical",
   "metadata": {},
   "outputs": [],
   "source": [
    "y_pred = bagging.predict(x_test)"
   ]
  },
  {
   "cell_type": "code",
   "execution_count": 7,
   "id": "addressed-basket",
   "metadata": {},
   "outputs": [
    {
     "name": "stdout",
     "output_type": "stream",
     "text": [
      "0.019920318725099598\n",
      "[[210467  52821]\n",
      " [   315    540]]\n",
      "              precision    recall  f1-score   support\n",
      "\n",
      "           0       1.00      0.80      0.89    263288\n",
      "           1       0.01      0.63      0.02       855\n",
      "\n",
      "    accuracy                           0.80    264143\n",
      "   macro avg       0.50      0.72      0.45    264143\n",
      "weighted avg       1.00      0.80      0.89    264143\n",
      "\n"
     ]
    }
   ],
   "source": [
    "print(f1_score(y_test,y_pred))\n",
    "print(confusion_matrix(y_test, y_pred))\n",
    "print(classification_report(y_test,y_pred))"
   ]
  },
  {
   "cell_type": "code",
   "execution_count": 10,
   "id": "finished-snapshot",
   "metadata": {},
   "outputs": [
    {
     "data": {
      "image/png": "[encoded data removed]",
      "text/plain": [
       "<Figure size 432x288 with 1 Axes>"
      ]
     },
     "metadata": {
      "needs_background": "light"
     },
     "output_type": "display_data"
    }
   ],
   "source": [
    "cm=confusion_matrix(y_test, y_pred)\n",
    "\n",
    "#sns.heatmap(cm, annot=True,fmt=\".1f\",linewidths=3,square=True, cmap='PuBu',color=\"#cd1076\")\n",
    "sns.heatmap(cm, annot=True,fmt=\".1f\",linewidths=3,square=True,cmap='PuBu',color=\"#cd1076\", cbar=False)\n",
    "plt.ylabel('Reel')\n",
    "plt.xlabel('Predite')\n",
    "plt.title('Matrice de Confusion',size=12)\n",
    "plt.show()"
   ]
  },
  {
   "cell_type": "code",
   "execution_count": 11,
   "id": "noted-chile",
   "metadata": {},
   "outputs": [
    {
     "name": "stdout",
     "output_type": "stream",
     "text": [
      "0.018822566620633214\n",
      "[[206042  57246]\n",
      " [   303    552]]\n",
      "              precision    recall  f1-score   support\n",
      "\n",
      "           0       1.00      0.78      0.88    263288\n",
      "           1       0.01      0.65      0.02       855\n",
      "\n",
      "    accuracy                           0.78    264143\n",
      "   macro avg       0.50      0.71      0.45    264143\n",
      "weighted avg       1.00      0.78      0.87    264143\n",
      "\n"
     ]
    }
   ],
   "source": [
    "bagging = BaggingClassifier(base_estimator=KNeighborsClassifier(n_neighbors=3),n_estimators=100,max_samples=0.8, max_features=0.3)\n",
    "bagging.fit(x_train, y_train)\n",
    "y_pred = bagging.predict(x_test)\n",
    "print(f1_score(y_test,y_pred))\n",
    "print(confusion_matrix(y_test, y_pred))\n",
    "print(classification_report(y_test,y_pred))"
   ]
  },
  {
   "cell_type": "code",
   "execution_count": 12,
   "id": "personal-intake",
   "metadata": {},
   "outputs": [
    {
     "name": "stdout",
     "output_type": "stream",
     "text": [
      "0.020067513381450602\n",
      "[[211062  52226]\n",
      " [   317    538]]\n",
      "              precision    recall  f1-score   support\n",
      "\n",
      "           0       1.00      0.80      0.89    263288\n",
      "           1       0.01      0.63      0.02       855\n",
      "\n",
      "    accuracy                           0.80    264143\n",
      "   macro avg       0.50      0.72      0.45    264143\n",
      "weighted avg       1.00      0.80      0.89    264143\n",
      "\n"
     ]
    }
   ],
   "source": [
    "bagging = BaggingClassifier(base_estimator=KNeighborsClassifier(n_neighbors=10),n_estimators=100,max_samples=0.8, max_features=0.3)\n",
    "bagging.fit(x_train, y_train)\n",
    "y_pred = bagging.predict(x_test)\n",
    "print(f1_score(y_test,y_pred))\n",
    "print(confusion_matrix(y_test, y_pred))\n",
    "print(classification_report(y_test,y_pred))"
   ]
  },
  {
   "cell_type": "code",
   "execution_count": 16,
   "id": "pleased-citizenship",
   "metadata": {},
   "outputs": [
    {
     "name": "stdout",
     "output_type": "stream",
     "text": [
      "0.022421901242861943\n",
      "[[217045  46243]\n",
      " [   321    534]]\n",
      "              precision    recall  f1-score   support\n",
      "\n",
      "           0       1.00      0.82      0.90    263288\n",
      "           1       0.01      0.62      0.02       855\n",
      "\n",
      "    accuracy                           0.82    264143\n",
      "   macro avg       0.50      0.72      0.46    264143\n",
      "weighted avg       1.00      0.82      0.90    264143\n",
      "\n"
     ]
    }
   ],
   "source": [
    "bagging = BaggingClassifier(base_estimator=KNeighborsClassifier(n_neighbors=15),\n",
    "                            n_estimators=100,max_samples=0.8,max_features=0.3)\n",
    "bagging.fit(x_train, y_train)\n",
    "y_pred = bagging.predict(x_test)\n",
    "print(f1_score(y_test,y_pred))\n",
    "print(confusion_matrix(y_test, y_pred))\n",
    "print(classification_report(y_test,y_pred))"
   ]
  },
  {
   "cell_type": "code",
   "execution_count": null,
   "id": "expanded-vegetation",
   "metadata": {},
   "outputs": [],
   "source": [
    "cm=confusion_matrix(y_test, y_pred)\n",
    "\n",
    "#sns.heatmap(cm, annot=True,fmt=\".1f\",linewidths=3,square=True, cmap='PuBu',color=\"#cd1076\")\n",
    "sns.heatmap(cm, annot=True,fmt=\".1f\",linewidths=3,square=True,cmap='PuBu',color=\"#cd1076\", cbar=False)\n",
    "plt.ylabel('Reel')\n",
    "plt.xlabel('Predite')\n",
    "plt.title('Matrice de Confusion',size=12)\n",
    "plt.show()"
   ]
  },
  {
   "cell_type": "code",
   "execution_count": 14,
   "id": "complete-conflict",
   "metadata": {},
   "outputs": [
    {
     "name": "stdout",
     "output_type": "stream",
     "text": [
      "0.020675422138836774\n",
      "[[211394  51894]\n",
      " [   304    551]]\n",
      "              precision    recall  f1-score   support\n",
      "\n",
      "           0       1.00      0.80      0.89    263288\n",
      "           1       0.01      0.64      0.02       855\n",
      "\n",
      "    accuracy                           0.80    264143\n",
      "   macro avg       0.50      0.72      0.46    264143\n",
      "weighted avg       1.00      0.80      0.89    264143\n",
      "\n"
     ]
    }
   ],
   "source": [
    "bagging = BaggingClassifier(base_estimator=KNeighborsClassifier(n_neighbors=20),n_estimators=100,max_samples=0.8, max_features=0.3)\n",
    "bagging.fit(x_train, y_train)\n",
    "y_pred = bagging.predict(x_test)\n",
    "print(f1_score(y_test,y_pred))\n",
    "print(confusion_matrix(y_test, y_pred))\n",
    "print(classification_report(y_test,y_pred))"
   ]
  },
  {
   "cell_type": "code",
   "execution_count": null,
   "id": "quality-steam",
   "metadata": {},
   "outputs": [],
   "source": []
  }
 ],
 "metadata": {
  "kernelspec": {
   "display_name": "Python 3",
   "language": "python",
   "name": "python3"
  },
  "language_info": {
   "codemirror_mode": {
    "name": "ipython",
    "version": 3
   },
   "file_extension": ".py",
   "mimetype": "text/x-python",
   "name": "python",
   "nbconvert_exporter": "python",
   "pygments_lexer": "ipython3",
   "version": "3.7.2"
  }
 },
 "nbformat": 4,
 "nbformat_minor": 5
}
