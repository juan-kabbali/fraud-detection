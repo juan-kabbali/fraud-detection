{
 "cells": [
  {
   "cell_type": "code",
   "execution_count": 1,
   "id": "ancient-brooklyn",
   "metadata": {
    "pycharm": {
     "is_executing": false
    }
   },
   "outputs": [],
   "source": [
    "import pandas as pd\n",
    "import plotly.express as px\n",
    "import numpy as np"
   ]
  },
  {
   "cell_type": "code",
   "execution_count": 2,
   "id": "appreciated-copper",
   "metadata": {},
   "outputs": [],
   "source": [
    "#load train set\n",
    "train = pd.read_csv(\"data/train.csv\", sep=\";\", decimal=',')\n",
    "train['datetransaction'] = pd.to_datetime(train['datetransaction'])\n",
    "train_3=train[(train['datetransaction'] > '2016-07-27') | train['flagimpaye'] ==1]"
   ]
  },
  {
   "cell_type": "code",
   "execution_count": 38,
   "id": "harmful-serbia",
   "metadata": {},
   "outputs": [
    {
     "data": {
      "text/plain": [
       "(534754, 23)"
      ]
     },
     "execution_count": 38,
     "metadata": {},
     "output_type": "execute_result"
    }
   ],
   "source": [
    "train_3.shape"
   ]
  },
  {
   "cell_type": "code",
   "execution_count": 39,
   "id": "traditional-congress",
   "metadata": {},
   "outputs": [
    {
     "data": {
      "text/plain": [
       "0    529352\n",
       "1      5402\n",
       "Name: flagimpaye, dtype: int64"
      ]
     },
     "execution_count": 39,
     "metadata": {},
     "output_type": "execute_result"
    }
   ],
   "source": [
    "train_3['flagimpaye'].value_counts()"
   ]
  },
  {
   "cell_type": "code",
   "execution_count": 42,
   "id": "rational-satellite",
   "metadata": {},
   "outputs": [],
   "source": [
    "train_3.to_csv(path_or_buf='data/small_train.csv', sep=';', index=False)"
   ]
  }
 ],
 "metadata": {
  "kernelspec": {
   "display_name": "Python 3",
   "language": "python",
   "name": "python3"
  },
  "language_info": {
   "codemirror_mode": {
    "name": "ipython",
    "version": 3
   },
   "file_extension": ".py",
   "mimetype": "text/x-python",
   "name": "python",
   "nbconvert_exporter": "python",
   "pygments_lexer": "ipython3",
   "version": "3.7.2"
  }
 },
 "nbformat": 4,
 "nbformat_minor": 5
}
