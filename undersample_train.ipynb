{
 "cells": [
  {
   "cell_type": "code",
   "execution_count": 2,
   "id": "authentic-indian",
   "metadata": {
    "pycharm": {
     "is_executing": false
    }
   },
   "outputs": [],
   "source": [
    "import pandas as pd\n",
    "import numpy as np\n",
    "from imblearn.under_sampling import OneSidedSelection"
   ]
  },
  {
   "cell_type": "code",
   "execution_count": 3,
   "id": "first-gauge",
   "metadata": {},
   "outputs": [
    {
     "name": "stdout",
     "output_type": "stream",
     "text": [
      "(534754,) (534754, 19)\n"
     ]
    }
   ],
   "source": [
    "train = pd.read_csv(\"data/small_train.csv\", sep=\";\", decimal=',')\n",
    "train.drop(['zibzin', 'idavisautorisationcheque','datetransaction'], axis=1, inplace=True)\n",
    "y_train=np.array(train['flagimpaye'])\n",
    "x_train=train.drop(['flagimpaye'], axis=1)\n",
    "print(y_train.shape, x_train.shape)"
   ]
  },
  {
   "cell_type": "code",
   "execution_count": 4,
   "id": "alpine-hostel",
   "metadata": {},
   "outputs": [],
   "source": [
    "oss = OneSidedSelection(sampling_strategy='majority',n_neighbors=1, n_seeds_S=500)\n",
    "x_res, y_res = oss.fit_resample(x_train, y_train)"
   ]
  },
  {
   "cell_type": "code",
   "execution_count": 7,
   "id": "distant-competition",
   "metadata": {},
   "outputs": [
    {
     "name": "stdout",
     "output_type": "stream",
     "text": [
      "(463518, 20) (463518,)\n"
     ]
    }
   ],
   "source": [
    "print(x_res.shape, y_res.shape)"
   ]
  },
  {
   "cell_type": "code",
   "execution_count": 13,
   "id": "monetary-fundamentals",
   "metadata": {},
   "outputs": [],
   "source": [
    "undersampled_train=x_res\n",
    "undersampled_train['flagimpaye']=y_res\n",
    "undersampled_train.to_csv(path_or_buf='data/undersampled_train.csv', sep=';', index=False)"
   ]
  }
 ],
 "metadata": {
  "kernelspec": {
   "display_name": "Python 3",
   "language": "python",
   "name": "python3"
  },
  "language_info": {
   "codemirror_mode": {
    "name": "ipython",
    "version": 3
   },
   "file_extension": ".py",
   "mimetype": "text/x-python",
   "name": "python",
   "nbconvert_exporter": "python",
   "pygments_lexer": "ipython3",
   "version": "3.7.2"
  }
 },
 "nbformat": 4,
 "nbformat_minor": 5
}
