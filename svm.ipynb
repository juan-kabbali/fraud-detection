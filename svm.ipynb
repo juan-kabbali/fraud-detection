{
 "cells": [
  {
   "cell_type": "code",
   "execution_count": 10,
   "id": "interstate-forestry",
   "metadata": {},
   "outputs": [],
   "source": [
    "import pandas as pd\n",
    "import numpy as np\n",
    "import seaborn as sns\n",
    "from sklearn.svm import SVC\n",
    "from sklearn.metrics import confusion_matrix, classification_report, f1_score\n",
    "from sklearn.svm import SVC\n",
    "from imblearn.under_sampling import NearMiss \n",
    "from imblearn.over_sampling import ADASYN\n",
    "import matplotlib.pyplot as plt"
   ]
  },
  {
   "cell_type": "code",
   "execution_count": 2,
   "id": "expressed-machine",
   "metadata": {},
   "outputs": [
    {
     "name": "stdout",
     "output_type": "stream",
     "text": [
      "(264143,) (264143, 19)\n"
     ]
    }
   ],
   "source": [
    "test = pd.read_csv(\"data/test.csv\", sep=\";\", decimal=',')\n",
    "test.drop(['zibzin', 'idavisautorisationcheque','datetransaction'], axis=1, inplace=True)\n",
    "y_test=np.array(test['flagimpaye'])\n",
    "x_test=test.drop(['flagimpaye'], axis=1)\n",
    "print(y_test.shape, x_test.shape)"
   ]
  },
  {
   "cell_type": "code",
   "execution_count": 3,
   "id": "italian-dover",
   "metadata": {},
   "outputs": [
    {
     "data": {
      "text/plain": [
       "0    458116\n",
       "1      5402\n",
       "Name: flagimpaye, dtype: int64"
      ]
     },
     "execution_count": 3,
     "metadata": {},
     "output_type": "execute_result"
    }
   ],
   "source": [
    "train = pd.read_csv(\"data/undersampled_train.csv\", sep=\";\", decimal=',')\n",
    "#train.drop(['zibzin', 'idavisautorisationcheque','datetransaction'], axis=1, inplace=True)\n",
    "y_train=np.array(train['flagimpaye'])\n",
    "x_train=train.drop(['flagimpaye'], axis=1)\n",
    "train['flagimpaye'].value_counts()"
   ]
  },
  {
   "cell_type": "code",
   "execution_count": 5,
   "id": "level-patrick",
   "metadata": {},
   "outputs": [
    {
     "data": {
      "text/plain": [
       "(54020, 19)"
      ]
     },
     "execution_count": 5,
     "metadata": {},
     "output_type": "execute_result"
    }
   ],
   "source": [
    "nearmiss = NearMiss(version=1, n_neighbors=5, sampling_strategy={0:48618, 1:5402})\n",
    "x_nm, y_nm = nearmiss.fit_resample(x_train, y_train)\n",
    "x_nm.shape"
   ]
  },
  {
   "cell_type": "code",
   "execution_count": 6,
   "id": "fundamental-reference",
   "metadata": {},
   "outputs": [
    {
     "data": {
      "text/plain": [
       "SVC(class_weight='balanced')"
      ]
     },
     "execution_count": 6,
     "metadata": {},
     "output_type": "execute_result"
    }
   ],
   "source": [
    "svclassifier = SVC(class_weight='balanced')\n",
    "svclassifier.fit(x_nm, y_nm)\n",
    "y_pred = svclassifier.predict(x_test)"
   ]
  },
  {
   "cell_type": "code",
   "execution_count": 7,
   "id": "atlantic-formula",
   "metadata": {},
   "outputs": [],
   "source": [
    "y_pred = svclassifier.predict(x_test)"
   ]
  },
  {
   "cell_type": "code",
   "execution_count": 8,
   "id": "pharmaceutical-environment",
   "metadata": {},
   "outputs": [
    {
     "name": "stdout",
     "output_type": "stream",
     "text": [
      "0.005659560326683519\n",
      "[[165123  98165]\n",
      " [   574    281]]\n",
      "              precision    recall  f1-score   support\n",
      "\n",
      "           0       1.00      0.63      0.77    263288\n",
      "           1       0.00      0.33      0.01       855\n",
      "\n",
      "    accuracy                           0.63    264143\n",
      "   macro avg       0.50      0.48      0.39    264143\n",
      "weighted avg       0.99      0.63      0.77    264143\n",
      "\n"
     ]
    }
   ],
   "source": [
    "print(f1_score(y_test,y_pred))\n",
    "print(confusion_matrix(y_test, y_pred))\n",
    "print(classification_report(y_test,y_pred))"
   ]
  },
  {
   "cell_type": "code",
   "execution_count": 23,
   "id": "hungarian-melbourne",
   "metadata": {},
   "outputs": [
    {
     "data": {
      "image/png": "[encoded data removed]",
      "text/plain": [
       "<Figure size 432x288 with 1 Axes>"
      ]
     },
     "metadata": {
      "needs_background": "light"
     },
     "output_type": "display_data"
    }
   ],
   "source": [
    "cm=confusion_matrix(y_test, y_pred)\n",
    "\n",
    "#sns.heatmap(cm, annot=True,fmt=\".1f\",linewidths=3,square=True, cmap='PuBu',color=\"#cd1076\")\n",
    "sns.heatmap(cm, annot=True,fmt=\".1f\",linewidths=3,square=True,cmap='PuBu',color=\"#cd1076\", cbar=False)\n",
    "plt.ylabel('Reel')\n",
    "plt.xlabel('Predite')\n",
    "plt.title('Matrice de Confusion',size=12)\n",
    "plt.show()"
   ]
  },
  {
   "cell_type": "code",
   "execution_count": null,
   "id": "mobile-malawi",
   "metadata": {},
   "outputs": [],
   "source": []
  }
 ],
 "metadata": {
  "kernelspec": {
   "display_name": "Python 3",
   "language": "python",
   "name": "python3"
  },
  "language_info": {
   "codemirror_mode": {
    "name": "ipython",
    "version": 3
   },
   "file_extension": ".py",
   "mimetype": "text/x-python",
   "name": "python",
   "nbconvert_exporter": "python",
   "pygments_lexer": "ipython3",
   "version": "3.7.2"
  }
 },
 "nbformat": 4,
 "nbformat_minor": 5
}
