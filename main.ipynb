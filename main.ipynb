{
 "cells": [
  {
   "cell_type": "code",
   "execution_count": 13,
   "outputs": [],
   "source": [
    "import pandas as pd\n",
    "import numpy as np\n",
    "import matplotlib.pyplot as plt\n"
   ],
   "metadata": {
    "collapsed": false,
    "pycharm": {
     "name": "#%%\n"
    }
   }
  },
  {
   "cell_type": "markdown",
   "source": [
    "### Data exploration\n"
   ],
   "metadata": {
    "collapsed": false
   }
  },
  {
   "cell_type": "code",
   "execution_count": null,
   "outputs": [],
   "source": [
    "df = pd.read_csv(\"data/test.txt\", sep=\";\")\n"
   ],
   "metadata": {
    "collapsed": false,
    "pycharm": {
     "name": "#%%\n"
    }
   }
  },
  {
   "cell_type": "code",
   "execution_count": 58,
   "outputs": [
    {
     "name": "stdout",
     "output_type": "stream",
     "text": [
      "Shape:  (264143, 23) \n",
      "\n"
     ]
    },
    {
     "ename": "AttributeError",
     "evalue": "Can only use .str accessor with string values!",
     "output_type": "error",
     "traceback": [
      "\u001B[1;31m---------------------------------------------------------------------------\u001B[0m",
      "\u001B[1;31mAttributeError\u001B[0m                            Traceback (most recent call last)",
      "\u001B[1;32m<ipython-input-58-3be445894065>\u001B[0m in \u001B[0;36m<module>\u001B[1;34m\u001B[0m\n\u001B[0;32m      1\u001B[0m \u001B[0mprint\u001B[0m\u001B[1;33m(\u001B[0m\u001B[1;34m\"Shape: \"\u001B[0m\u001B[1;33m,\u001B[0m \u001B[0mdf\u001B[0m\u001B[1;33m.\u001B[0m\u001B[0mshape\u001B[0m\u001B[1;33m,\u001B[0m \u001B[1;34m\"\\n\"\u001B[0m\u001B[1;33m)\u001B[0m\u001B[1;33m\u001B[0m\u001B[1;33m\u001B[0m\u001B[0m\n\u001B[0;32m      2\u001B[0m \u001B[1;33m\u001B[0m\u001B[0m\n\u001B[1;32m----> 3\u001B[1;33m \u001B[0mdf\u001B[0m\u001B[1;33m[\u001B[0m\u001B[1;34m'MontAnt'\u001B[0m\u001B[1;33m]\u001B[0m \u001B[1;33m=\u001B[0m \u001B[0mdf\u001B[0m\u001B[1;33m[\u001B[0m\u001B[1;34m'MontAnt'\u001B[0m\u001B[1;33m]\u001B[0m\u001B[1;33m.\u001B[0m\u001B[0mstr\u001B[0m\u001B[1;33m.\u001B[0m\u001B[0mreplace\u001B[0m\u001B[1;33m(\u001B[0m\u001B[1;34m','\u001B[0m\u001B[1;33m,\u001B[0m \u001B[1;34m''\u001B[0m\u001B[1;33m)\u001B[0m\u001B[1;33m.\u001B[0m\u001B[0mastype\u001B[0m\u001B[1;33m(\u001B[0m\u001B[0mfloat\u001B[0m\u001B[1;33m)\u001B[0m\u001B[1;33m\u001B[0m\u001B[1;33m\u001B[0m\u001B[0m\n\u001B[0m\u001B[0;32m      4\u001B[0m \u001B[0mprint\u001B[0m\u001B[1;33m(\u001B[0m\u001B[1;34m\"Data Types: \"\u001B[0m\u001B[1;33m)\u001B[0m\u001B[1;33m\u001B[0m\u001B[1;33m\u001B[0m\u001B[0m\n\u001B[0;32m      5\u001B[0m \u001B[0mprint\u001B[0m\u001B[1;33m(\u001B[0m\u001B[0mdf\u001B[0m\u001B[1;33m.\u001B[0m\u001B[0mdtypes\u001B[0m\u001B[1;33m)\u001B[0m\u001B[1;33m\u001B[0m\u001B[1;33m\u001B[0m\u001B[0m\n",
      "\u001B[1;32mc:\\users\\juan pablo\\desktop\\fouille de données\\fraud-detection\\venv\\lib\\site-packages\\pandas\\core\\generic.py\u001B[0m in \u001B[0;36m__getattr__\u001B[1;34m(self, name)\u001B[0m\n\u001B[0;32m   5133\u001B[0m             \u001B[1;32mor\u001B[0m \u001B[0mname\u001B[0m \u001B[1;32min\u001B[0m \u001B[0mself\u001B[0m\u001B[1;33m.\u001B[0m\u001B[0m_accessors\u001B[0m\u001B[1;33m\u001B[0m\u001B[1;33m\u001B[0m\u001B[0m\n\u001B[0;32m   5134\u001B[0m         ):\n\u001B[1;32m-> 5135\u001B[1;33m             \u001B[1;32mreturn\u001B[0m \u001B[0mobject\u001B[0m\u001B[1;33m.\u001B[0m\u001B[0m__getattribute__\u001B[0m\u001B[1;33m(\u001B[0m\u001B[0mself\u001B[0m\u001B[1;33m,\u001B[0m \u001B[0mname\u001B[0m\u001B[1;33m)\u001B[0m\u001B[1;33m\u001B[0m\u001B[1;33m\u001B[0m\u001B[0m\n\u001B[0m\u001B[0;32m   5136\u001B[0m         \u001B[1;32melse\u001B[0m\u001B[1;33m:\u001B[0m\u001B[1;33m\u001B[0m\u001B[1;33m\u001B[0m\u001B[0m\n\u001B[0;32m   5137\u001B[0m             \u001B[1;32mif\u001B[0m \u001B[0mself\u001B[0m\u001B[1;33m.\u001B[0m\u001B[0m_info_axis\u001B[0m\u001B[1;33m.\u001B[0m\u001B[0m_can_hold_identifiers_and_holds_name\u001B[0m\u001B[1;33m(\u001B[0m\u001B[0mname\u001B[0m\u001B[1;33m)\u001B[0m\u001B[1;33m:\u001B[0m\u001B[1;33m\u001B[0m\u001B[1;33m\u001B[0m\u001B[0m\n",
      "\u001B[1;32mc:\\users\\juan pablo\\desktop\\fouille de données\\fraud-detection\\venv\\lib\\site-packages\\pandas\\core\\accessor.py\u001B[0m in \u001B[0;36m__get__\u001B[1;34m(self, obj, cls)\u001B[0m\n\u001B[0;32m    185\u001B[0m             \u001B[1;31m# we're accessing the attribute of the class, i.e., Dataset.geo\u001B[0m\u001B[1;33m\u001B[0m\u001B[1;33m\u001B[0m\u001B[1;33m\u001B[0m\u001B[0m\n\u001B[0;32m    186\u001B[0m             \u001B[1;32mreturn\u001B[0m \u001B[0mself\u001B[0m\u001B[1;33m.\u001B[0m\u001B[0m_accessor\u001B[0m\u001B[1;33m\u001B[0m\u001B[1;33m\u001B[0m\u001B[0m\n\u001B[1;32m--> 187\u001B[1;33m         \u001B[0maccessor_obj\u001B[0m \u001B[1;33m=\u001B[0m \u001B[0mself\u001B[0m\u001B[1;33m.\u001B[0m\u001B[0m_accessor\u001B[0m\u001B[1;33m(\u001B[0m\u001B[0mobj\u001B[0m\u001B[1;33m)\u001B[0m\u001B[1;33m\u001B[0m\u001B[1;33m\u001B[0m\u001B[0m\n\u001B[0m\u001B[0;32m    188\u001B[0m         \u001B[1;31m# Replace the property with the accessor object. Inspired by:\u001B[0m\u001B[1;33m\u001B[0m\u001B[1;33m\u001B[0m\u001B[1;33m\u001B[0m\u001B[0m\n\u001B[0;32m    189\u001B[0m         \u001B[1;31m# https://www.pydanny.com/cached-property.html\u001B[0m\u001B[1;33m\u001B[0m\u001B[1;33m\u001B[0m\u001B[1;33m\u001B[0m\u001B[0m\n",
      "\u001B[1;32mc:\\users\\juan pablo\\desktop\\fouille de données\\fraud-detection\\venv\\lib\\site-packages\\pandas\\core\\strings.py\u001B[0m in \u001B[0;36m__init__\u001B[1;34m(self, data)\u001B[0m\n\u001B[0;32m   2098\u001B[0m \u001B[1;33m\u001B[0m\u001B[0m\n\u001B[0;32m   2099\u001B[0m     \u001B[1;32mdef\u001B[0m \u001B[0m__init__\u001B[0m\u001B[1;33m(\u001B[0m\u001B[0mself\u001B[0m\u001B[1;33m,\u001B[0m \u001B[0mdata\u001B[0m\u001B[1;33m)\u001B[0m\u001B[1;33m:\u001B[0m\u001B[1;33m\u001B[0m\u001B[1;33m\u001B[0m\u001B[0m\n\u001B[1;32m-> 2100\u001B[1;33m         \u001B[0mself\u001B[0m\u001B[1;33m.\u001B[0m\u001B[0m_inferred_dtype\u001B[0m \u001B[1;33m=\u001B[0m \u001B[0mself\u001B[0m\u001B[1;33m.\u001B[0m\u001B[0m_validate\u001B[0m\u001B[1;33m(\u001B[0m\u001B[0mdata\u001B[0m\u001B[1;33m)\u001B[0m\u001B[1;33m\u001B[0m\u001B[1;33m\u001B[0m\u001B[0m\n\u001B[0m\u001B[0;32m   2101\u001B[0m         \u001B[0mself\u001B[0m\u001B[1;33m.\u001B[0m\u001B[0m_is_categorical\u001B[0m \u001B[1;33m=\u001B[0m \u001B[0mis_categorical_dtype\u001B[0m\u001B[1;33m(\u001B[0m\u001B[0mdata\u001B[0m\u001B[1;33m.\u001B[0m\u001B[0mdtype\u001B[0m\u001B[1;33m)\u001B[0m\u001B[1;33m\u001B[0m\u001B[1;33m\u001B[0m\u001B[0m\n\u001B[0;32m   2102\u001B[0m         \u001B[0mself\u001B[0m\u001B[1;33m.\u001B[0m\u001B[0m_is_string\u001B[0m \u001B[1;33m=\u001B[0m \u001B[0mdata\u001B[0m\u001B[1;33m.\u001B[0m\u001B[0mdtype\u001B[0m\u001B[1;33m.\u001B[0m\u001B[0mname\u001B[0m \u001B[1;33m==\u001B[0m \u001B[1;34m\"string\"\u001B[0m\u001B[1;33m\u001B[0m\u001B[1;33m\u001B[0m\u001B[0m\n",
      "\u001B[1;32mc:\\users\\juan pablo\\desktop\\fouille de données\\fraud-detection\\venv\\lib\\site-packages\\pandas\\core\\strings.py\u001B[0m in \u001B[0;36m_validate\u001B[1;34m(data)\u001B[0m\n\u001B[0;32m   2155\u001B[0m \u001B[1;33m\u001B[0m\u001B[0m\n\u001B[0;32m   2156\u001B[0m         \u001B[1;32mif\u001B[0m \u001B[0minferred_dtype\u001B[0m \u001B[1;32mnot\u001B[0m \u001B[1;32min\u001B[0m \u001B[0mallowed_types\u001B[0m\u001B[1;33m:\u001B[0m\u001B[1;33m\u001B[0m\u001B[1;33m\u001B[0m\u001B[0m\n\u001B[1;32m-> 2157\u001B[1;33m             \u001B[1;32mraise\u001B[0m \u001B[0mAttributeError\u001B[0m\u001B[1;33m(\u001B[0m\u001B[1;34m\"Can only use .str accessor with string values!\"\u001B[0m\u001B[1;33m)\u001B[0m\u001B[1;33m\u001B[0m\u001B[1;33m\u001B[0m\u001B[0m\n\u001B[0m\u001B[0;32m   2158\u001B[0m         \u001B[1;32mreturn\u001B[0m \u001B[0minferred_dtype\u001B[0m\u001B[1;33m\u001B[0m\u001B[1;33m\u001B[0m\u001B[0m\n\u001B[0;32m   2159\u001B[0m \u001B[1;33m\u001B[0m\u001B[0m\n",
      "\u001B[1;31mAttributeError\u001B[0m: Can only use .str accessor with string values!"
     ]
    }
   ],
   "source": [
    "print(\"Shape: \", df.shape, \"\\n\")\n",
    "print(\"Data Types: \")\n",
    "print(df.dtypes)\n"
   ],
   "metadata": {
    "collapsed": false,
    "pycharm": {
     "name": "#%%\n"
    }
   }
  },
  {
   "cell_type": "code",
   "execution_count": 30,
   "outputs": [
    {
     "data": {
      "text/plain": "       IDAvisAutorisAtionCheque   CodeDecision  VerifiAnceCPT1  \\\ncount              2.641430e+05  264143.000000   264143.000000   \nmean               7.584893e+07       0.014473        0.392579   \nstd                1.897321e+05       0.175802        0.519606   \nmin                7.552580e+07       0.000000        0.000000   \n25%                7.568505e+07       0.000000        0.000000   \n50%                7.584113e+07       0.000000        0.000000   \n75%                7.600519e+07       0.000000        1.000000   \nmax                7.619241e+07       3.000000       10.000000   \n\n       VerifiAnceCPT2  VerifiAnceCPT3           D2CB  EcArtNumCheq  \\\ncount   264143.000000   264143.000000  264143.000000  2.641430e+05   \nmean         0.418868        0.464972     234.201769  5.758895e+03   \nstd          0.588430        0.712331     208.760007  1.583986e+05   \nmin          0.000000        0.000000       1.000000  0.000000e+00   \n25%          0.000000        0.000000       1.000000  0.000000e+00   \n50%          0.000000        0.000000     212.000000  0.000000e+00   \n75%          1.000000        1.000000     448.000000  0.000000e+00   \nmax         17.000000       36.000000     551.000000  9.948073e+06   \n\n        NbrMAgAsin3J          Heure     FlAgImpAye  \ncount  264143.000000  264143.000000  264143.000000  \nmean        1.032562   53541.022670       0.003237  \nstd         0.183899   11729.169206       0.056802  \nmin         1.000000   26669.000000       0.000000  \n25%         1.000000   42647.000000       0.000000  \n50%         1.000000   55059.000000       0.000000  \n75%         1.000000   63779.000000       0.000000  \nmax        10.000000   79676.000000       1.000000  ",
      "text/html": "<div>\n<style scoped>\n    .dataframe tbody tr th:only-of-type {\n        vertical-align: middle;\n    }\n\n    .dataframe tbody tr th {\n        vertical-align: top;\n    }\n\n    .dataframe thead th {\n        text-align: right;\n    }\n</style>\n<table border=\"1\" class=\"dataframe\">\n  <thead>\n    <tr style=\"text-align: right;\">\n      <th></th>\n      <th>IDAvisAutorisAtionCheque</th>\n      <th>CodeDecision</th>\n      <th>VerifiAnceCPT1</th>\n      <th>VerifiAnceCPT2</th>\n      <th>VerifiAnceCPT3</th>\n      <th>D2CB</th>\n      <th>EcArtNumCheq</th>\n      <th>NbrMAgAsin3J</th>\n      <th>Heure</th>\n      <th>FlAgImpAye</th>\n    </tr>\n  </thead>\n  <tbody>\n    <tr>\n      <th>count</th>\n      <td>2.641430e+05</td>\n      <td>264143.000000</td>\n      <td>264143.000000</td>\n      <td>264143.000000</td>\n      <td>264143.000000</td>\n      <td>264143.000000</td>\n      <td>2.641430e+05</td>\n      <td>264143.000000</td>\n      <td>264143.000000</td>\n      <td>264143.000000</td>\n    </tr>\n    <tr>\n      <th>mean</th>\n      <td>7.584893e+07</td>\n      <td>0.014473</td>\n      <td>0.392579</td>\n      <td>0.418868</td>\n      <td>0.464972</td>\n      <td>234.201769</td>\n      <td>5.758895e+03</td>\n      <td>1.032562</td>\n      <td>53541.022670</td>\n      <td>0.003237</td>\n    </tr>\n    <tr>\n      <th>std</th>\n      <td>1.897321e+05</td>\n      <td>0.175802</td>\n      <td>0.519606</td>\n      <td>0.588430</td>\n      <td>0.712331</td>\n      <td>208.760007</td>\n      <td>1.583986e+05</td>\n      <td>0.183899</td>\n      <td>11729.169206</td>\n      <td>0.056802</td>\n    </tr>\n    <tr>\n      <th>min</th>\n      <td>7.552580e+07</td>\n      <td>0.000000</td>\n      <td>0.000000</td>\n      <td>0.000000</td>\n      <td>0.000000</td>\n      <td>1.000000</td>\n      <td>0.000000e+00</td>\n      <td>1.000000</td>\n      <td>26669.000000</td>\n      <td>0.000000</td>\n    </tr>\n    <tr>\n      <th>25%</th>\n      <td>7.568505e+07</td>\n      <td>0.000000</td>\n      <td>0.000000</td>\n      <td>0.000000</td>\n      <td>0.000000</td>\n      <td>1.000000</td>\n      <td>0.000000e+00</td>\n      <td>1.000000</td>\n      <td>42647.000000</td>\n      <td>0.000000</td>\n    </tr>\n    <tr>\n      <th>50%</th>\n      <td>7.584113e+07</td>\n      <td>0.000000</td>\n      <td>0.000000</td>\n      <td>0.000000</td>\n      <td>0.000000</td>\n      <td>212.000000</td>\n      <td>0.000000e+00</td>\n      <td>1.000000</td>\n      <td>55059.000000</td>\n      <td>0.000000</td>\n    </tr>\n    <tr>\n      <th>75%</th>\n      <td>7.600519e+07</td>\n      <td>0.000000</td>\n      <td>1.000000</td>\n      <td>1.000000</td>\n      <td>1.000000</td>\n      <td>448.000000</td>\n      <td>0.000000e+00</td>\n      <td>1.000000</td>\n      <td>63779.000000</td>\n      <td>0.000000</td>\n    </tr>\n    <tr>\n      <th>max</th>\n      <td>7.619241e+07</td>\n      <td>3.000000</td>\n      <td>10.000000</td>\n      <td>17.000000</td>\n      <td>36.000000</td>\n      <td>551.000000</td>\n      <td>9.948073e+06</td>\n      <td>10.000000</td>\n      <td>79676.000000</td>\n      <td>1.000000</td>\n    </tr>\n  </tbody>\n</table>\n</div>"
     },
     "execution_count": 30,
     "metadata": {},
     "output_type": "execute_result"
    }
   ],
   "source": [
    "df.describe()\n"
   ],
   "metadata": {
    "collapsed": false,
    "pycharm": {
     "name": "#%%\n"
    }
   }
  },
  {
   "cell_type": "code",
   "execution_count": 33,
   "outputs": [
    {
     "data": {
      "text/plain": "                      ZIBZIN  IDAvisAutorisAtionCheque             MontAnt  \\\n0  A013000077908486718390030                  75525799  45,409999999999997   \n1  A056016006908021653208910                  75525802  62,060000000000002   \n2  A083019106908043612476153                  75525805               16,43   \n3  A008010087908375620025601                  75525810  72,519999999999996   \n4  A013010041908016789940729                  75525812                  10   \n\n       DAteTrAnsAction  CodeDecision  VerifiAnceCPT1  VerifiAnceCPT2  \\\n0  2016-09-20 07:33:50             0               1               1   \n1  2016-09-20 08:05:18             0               1               1   \n2  2016-09-20 08:06:20             0               0               0   \n3  2016-09-20 08:22:04             0               1               1   \n4  2016-09-20 08:27:19             0               0               0   \n\n   VerifiAnceCPT3  D2CB             ScoringFP1  ...       TAuxImpNB_CPM  \\\n0               1   551                      0  ...  39,274924471299094   \n1               1     1                      0  ...  12,586532410320956   \n2               0   302  1,3600993377483443E-2  ...  24,301336573511541   \n3               1     1                      0  ...  4,7236655644780345   \n4               0   511                      0  ...  39,274924471299094   \n\n  EcArtNumCheq NbrMAgAsin3J          DiffDAteTr1         DiffDAteTr2  \\\n0            0            1                    4                   4   \n1            0            1                    5                   5   \n2            3            1  0,99767361111111108  1,9716319444444443   \n3            0            1                    5                   5   \n4            0            1                    4                   4   \n\n         DiffDAteTr3          CA3TRetMtt               CA3TR  Heure FlAgImpAye  \n0                  4  45,409999999999997                   0  27230          0  \n1                  5  62,060000000000002                   0  29118          0  \n2  2,992962962962963  61,169999999999995  44,739999999999995  29180          0  \n3                  5  72,519999999999996                   0  30124          0  \n4                  4                  10                   0  30439          0  \n\n[5 rows x 23 columns]",
      "text/html": "<div>\n<style scoped>\n    .dataframe tbody tr th:only-of-type {\n        vertical-align: middle;\n    }\n\n    .dataframe tbody tr th {\n        vertical-align: top;\n    }\n\n    .dataframe thead th {\n        text-align: right;\n    }\n</style>\n<table border=\"1\" class=\"dataframe\">\n  <thead>\n    <tr style=\"text-align: right;\">\n      <th></th>\n      <th>ZIBZIN</th>\n      <th>IDAvisAutorisAtionCheque</th>\n      <th>MontAnt</th>\n      <th>DAteTrAnsAction</th>\n      <th>CodeDecision</th>\n      <th>VerifiAnceCPT1</th>\n      <th>VerifiAnceCPT2</th>\n      <th>VerifiAnceCPT3</th>\n      <th>D2CB</th>\n      <th>ScoringFP1</th>\n      <th>...</th>\n      <th>TAuxImpNB_CPM</th>\n      <th>EcArtNumCheq</th>\n      <th>NbrMAgAsin3J</th>\n      <th>DiffDAteTr1</th>\n      <th>DiffDAteTr2</th>\n      <th>DiffDAteTr3</th>\n      <th>CA3TRetMtt</th>\n      <th>CA3TR</th>\n      <th>Heure</th>\n      <th>FlAgImpAye</th>\n    </tr>\n  </thead>\n  <tbody>\n    <tr>\n      <th>0</th>\n      <td>A013000077908486718390030</td>\n      <td>75525799</td>\n      <td>45,409999999999997</td>\n      <td>2016-09-20 07:33:50</td>\n      <td>0</td>\n      <td>1</td>\n      <td>1</td>\n      <td>1</td>\n      <td>551</td>\n      <td>0</td>\n      <td>...</td>\n      <td>39,274924471299094</td>\n      <td>0</td>\n      <td>1</td>\n      <td>4</td>\n      <td>4</td>\n      <td>4</td>\n      <td>45,409999999999997</td>\n      <td>0</td>\n      <td>27230</td>\n      <td>0</td>\n    </tr>\n    <tr>\n      <th>1</th>\n      <td>A056016006908021653208910</td>\n      <td>75525802</td>\n      <td>62,060000000000002</td>\n      <td>2016-09-20 08:05:18</td>\n      <td>0</td>\n      <td>1</td>\n      <td>1</td>\n      <td>1</td>\n      <td>1</td>\n      <td>0</td>\n      <td>...</td>\n      <td>12,586532410320956</td>\n      <td>0</td>\n      <td>1</td>\n      <td>5</td>\n      <td>5</td>\n      <td>5</td>\n      <td>62,060000000000002</td>\n      <td>0</td>\n      <td>29118</td>\n      <td>0</td>\n    </tr>\n    <tr>\n      <th>2</th>\n      <td>A083019106908043612476153</td>\n      <td>75525805</td>\n      <td>16,43</td>\n      <td>2016-09-20 08:06:20</td>\n      <td>0</td>\n      <td>0</td>\n      <td>0</td>\n      <td>0</td>\n      <td>302</td>\n      <td>1,3600993377483443E-2</td>\n      <td>...</td>\n      <td>24,301336573511541</td>\n      <td>3</td>\n      <td>1</td>\n      <td>0,99767361111111108</td>\n      <td>1,9716319444444443</td>\n      <td>2,992962962962963</td>\n      <td>61,169999999999995</td>\n      <td>44,739999999999995</td>\n      <td>29180</td>\n      <td>0</td>\n    </tr>\n    <tr>\n      <th>3</th>\n      <td>A008010087908375620025601</td>\n      <td>75525810</td>\n      <td>72,519999999999996</td>\n      <td>2016-09-20 08:22:04</td>\n      <td>0</td>\n      <td>1</td>\n      <td>1</td>\n      <td>1</td>\n      <td>1</td>\n      <td>0</td>\n      <td>...</td>\n      <td>4,7236655644780345</td>\n      <td>0</td>\n      <td>1</td>\n      <td>5</td>\n      <td>5</td>\n      <td>5</td>\n      <td>72,519999999999996</td>\n      <td>0</td>\n      <td>30124</td>\n      <td>0</td>\n    </tr>\n    <tr>\n      <th>4</th>\n      <td>A013010041908016789940729</td>\n      <td>75525812</td>\n      <td>10</td>\n      <td>2016-09-20 08:27:19</td>\n      <td>0</td>\n      <td>0</td>\n      <td>0</td>\n      <td>0</td>\n      <td>511</td>\n      <td>0</td>\n      <td>...</td>\n      <td>39,274924471299094</td>\n      <td>0</td>\n      <td>1</td>\n      <td>4</td>\n      <td>4</td>\n      <td>4</td>\n      <td>10</td>\n      <td>0</td>\n      <td>30439</td>\n      <td>0</td>\n    </tr>\n  </tbody>\n</table>\n<p>5 rows × 23 columns</p>\n</div>"
     },
     "execution_count": 33,
     "metadata": {},
     "output_type": "execute_result"
    }
   ],
   "source": [
    "df.head()\n"
   ],
   "metadata": {
    "collapsed": false,
    "pycharm": {
     "name": "#%%\n"
    }
   }
  },
  {
   "cell_type": "code",
   "execution_count": 16,
   "outputs": [
    {
     "data": {
      "text/plain": "ZIBZIN                      0\nIDAvisAutorisAtionCheque    0\nMontAnt                     0\nDAteTrAnsAction             0\nCodeDecision                0\nVerifiAnceCPT1              0\nVerifiAnceCPT2              0\nVerifiAnceCPT3              0\nD2CB                        0\nScoringFP1                  0\nScoringFP2                  0\nScoringFP3                  0\nTAuxImpNb_RB                0\nTAuxImpNB_CPM               0\nEcArtNumCheq                0\nNbrMAgAsin3J                0\nDiffDAteTr1                 0\nDiffDAteTr2                 0\nDiffDAteTr3                 0\nCA3TRetMtt                  0\nCA3TR                       0\nHeure                       0\nFlAgImpAye                  0\ndtype: int64"
     },
     "execution_count": 16,
     "metadata": {},
     "output_type": "execute_result"
    }
   ],
   "source": [
    "# there is not null data in our dataset columns\n",
    "df.isnull().sum()\n"
   ],
   "metadata": {
    "collapsed": false,
    "pycharm": {
     "name": "#%%\n"
    }
   }
  },
  {
   "cell_type": "code",
   "execution_count": 18,
   "outputs": [
    {
     "name": "stdout",
     "output_type": "stream",
     "text": [
      "Not Frauds 263288 \t represents 99.676 %\n",
      "Frauds 855 \t\t represents 0.324 %\n"
     ]
    }
   ],
   "source": [
    "rows = len(df)\n",
    "fraud_flag = df['FlAgImpAye'].value_counts()\n",
    "print(f'Not Frauds { fraud_flag[0] } \\t represents { round((fraud_flag[0] / rows) * 100, 3) } %')\n",
    "print(f'Frauds { fraud_flag[1] } \\t\\t represents { round((fraud_flag[1] / rows) * 100, 3) } %')\n"
   ],
   "metadata": {
    "collapsed": false,
    "pycharm": {
     "name": "#%%\n"
    }
   }
  },
  {
   "cell_type": "code",
   "execution_count": 19,
   "outputs": [
    {
     "data": {
      "text/plain": "<Figure size 432x288 with 1 Axes>",
      "image/png": "[encoded data removed]"
     },
     "metadata": {
      "needs_background": "light"
     },
     "output_type": "display_data"
    }
   ],
   "source": [
    "barchart_frauds = plt.bar(['Not Fraud', 'Fraud'], [fraud_flag[0], fraud_flag[1]])\n",
    "barchart_frauds[1].set_color('r')\n",
    "\n"
   ],
   "metadata": {
    "collapsed": false,
    "pycharm": {
     "name": "#%%\n"
    }
   }
  },
  {
   "cell_type": "markdown",
   "source": [
    "#### explore distributions\n"
   ],
   "metadata": {
    "collapsed": false
   }
  },
  {
   "cell_type": "code",
   "execution_count": 50,
   "outputs": [],
   "source": [
    "df_frauds = df.loc[df['FlAgImpAye'] == 1]\n",
    "df_non_frauds = df.loc[df['FlAgImpAye'] == 0]\n"
   ],
   "metadata": {
    "collapsed": false,
    "pycharm": {
     "name": "#%%\n"
    }
   }
  },
  {
   "cell_type": "code",
   "execution_count": 49,
   "outputs": [
    {
     "data": {
      "text/plain": "array([[<AxesSubplot:title={'center':'CodeDecision'}>]], dtype=object)"
     },
     "execution_count": 49,
     "metadata": {},
     "output_type": "execute_result"
    },
    {
     "data": {
      "text/plain": "<Figure size 432x288 with 1 Axes>",
      "image/png": "[encoded data removed]"
     },
     "metadata": {
      "needs_background": "light"
     },
     "output_type": "display_data"
    },
    {
     "data": {
      "text/plain": "<Figure size 432x288 with 1 Axes>",
      "image/png": "[encoded data removed]"
     },
     "metadata": {
      "needs_background": "light"
     },
     "output_type": "display_data"
    }
   ],
   "source": [
    "df_frauds.hist(column=\"CodeDecision\")\n",
    "df_non_frauds.hist(column=\"CodeDecision\")\n"
   ],
   "metadata": {
    "collapsed": false,
    "pycharm": {
     "name": "#%%\n"
    }
   }
  },
  {
   "cell_type": "code",
   "execution_count": 52,
   "outputs": [
    {
     "ename": "ValueError",
     "evalue": "hist method requires numerical columns, nothing to plot.",
     "output_type": "error",
     "traceback": [
      "\u001B[1;31m---------------------------------------------------------------------------\u001B[0m",
      "\u001B[1;31mValueError\u001B[0m                                Traceback (most recent call last)",
      "\u001B[1;32m<ipython-input-52-656efe187d97>\u001B[0m in \u001B[0;36m<module>\u001B[1;34m\u001B[0m\n\u001B[1;32m----> 1\u001B[1;33m \u001B[0mdf_frauds\u001B[0m\u001B[1;33m.\u001B[0m\u001B[0mhist\u001B[0m\u001B[1;33m(\u001B[0m\u001B[0mcolumn\u001B[0m\u001B[1;33m=\u001B[0m\u001B[1;34m\"MontAnt\"\u001B[0m\u001B[1;33m)\u001B[0m\u001B[1;33m\u001B[0m\u001B[1;33m\u001B[0m\u001B[0m\n\u001B[0m\u001B[0;32m      2\u001B[0m \u001B[0mdf_non_frauds\u001B[0m\u001B[1;33m.\u001B[0m\u001B[0mhist\u001B[0m\u001B[1;33m(\u001B[0m\u001B[0mcolumn\u001B[0m\u001B[1;33m=\u001B[0m\u001B[1;34m\"MontAnt\"\u001B[0m\u001B[1;33m)\u001B[0m\u001B[1;33m\u001B[0m\u001B[1;33m\u001B[0m\u001B[0m\n",
      "\u001B[1;32mc:\\users\\juan pablo\\desktop\\fouille de données\\fraud-detection\\venv\\lib\\site-packages\\pandas\\plotting\\_core.py\u001B[0m in \u001B[0;36mhist_frame\u001B[1;34m(data, column, by, grid, xlabelsize, xrot, ylabelsize, yrot, ax, sharex, sharey, figsize, layout, bins, backend, legend, **kwargs)\u001B[0m\n\u001B[0;32m    225\u001B[0m         \u001B[0mlegend\u001B[0m\u001B[1;33m=\u001B[0m\u001B[0mlegend\u001B[0m\u001B[1;33m,\u001B[0m\u001B[1;33m\u001B[0m\u001B[1;33m\u001B[0m\u001B[0m\n\u001B[0;32m    226\u001B[0m         \u001B[0mbins\u001B[0m\u001B[1;33m=\u001B[0m\u001B[0mbins\u001B[0m\u001B[1;33m,\u001B[0m\u001B[1;33m\u001B[0m\u001B[1;33m\u001B[0m\u001B[0m\n\u001B[1;32m--> 227\u001B[1;33m         \u001B[1;33m**\u001B[0m\u001B[0mkwargs\u001B[0m\u001B[1;33m,\u001B[0m\u001B[1;33m\u001B[0m\u001B[1;33m\u001B[0m\u001B[0m\n\u001B[0m\u001B[0;32m    228\u001B[0m     )\n\u001B[0;32m    229\u001B[0m \u001B[1;33m\u001B[0m\u001B[0m\n",
      "\u001B[1;32mc:\\users\\juan pablo\\desktop\\fouille de données\\fraud-detection\\venv\\lib\\site-packages\\pandas\\plotting\\_matplotlib\\hist.py\u001B[0m in \u001B[0;36mhist_frame\u001B[1;34m(data, column, by, grid, xlabelsize, xrot, ylabelsize, yrot, ax, sharex, sharey, figsize, layout, bins, legend, **kwds)\u001B[0m\n\u001B[0;32m    413\u001B[0m \u001B[1;33m\u001B[0m\u001B[0m\n\u001B[0;32m    414\u001B[0m     \u001B[1;32mif\u001B[0m \u001B[0mnaxes\u001B[0m \u001B[1;33m==\u001B[0m \u001B[1;36m0\u001B[0m\u001B[1;33m:\u001B[0m\u001B[1;33m\u001B[0m\u001B[1;33m\u001B[0m\u001B[0m\n\u001B[1;32m--> 415\u001B[1;33m         \u001B[1;32mraise\u001B[0m \u001B[0mValueError\u001B[0m\u001B[1;33m(\u001B[0m\u001B[1;34m\"hist method requires numerical columns, nothing to plot.\"\u001B[0m\u001B[1;33m)\u001B[0m\u001B[1;33m\u001B[0m\u001B[1;33m\u001B[0m\u001B[0m\n\u001B[0m\u001B[0;32m    416\u001B[0m \u001B[1;33m\u001B[0m\u001B[0m\n\u001B[0;32m    417\u001B[0m     fig, axes = _subplots(\n",
      "\u001B[1;31mValueError\u001B[0m: hist method requires numerical columns, nothing to plot."
     ]
    }
   ],
   "source": [
    "df_frauds.hist(column=\"MontAnt\")\n",
    "df_non_frauds.hist(column=\"MontAnt\")"
   ],
   "metadata": {
    "collapsed": false,
    "pycharm": {
     "name": "#%%\n"
    }
   }
  }
 ],
 "metadata": {
  "kernelspec": {
   "display_name": "Python 3",
   "language": "python",
   "name": "python3"
  },
  "language_info": {
   "codemirror_mode": {
    "name": "ipython",
    "version": 3
   },
   "file_extension": ".py",
   "mimetype": "text/x-python",
   "name": "python",
   "nbconvert_exporter": "python",
   "pygments_lexer": "ipython3",
   "version": "3.8.3"
  },
  "widgets": {
   "application/vnd.jupyter.widget-state+json": {
    "state": {},
    "version_major": 2,
    "version_minor": 0
   }
  }
 },
 "nbformat": 4,
 "nbformat_minor": 1
}