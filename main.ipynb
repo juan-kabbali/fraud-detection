{
 "cells": [
  {
   "cell_type": "markdown",
   "source": [
    "## Load libraries and dependencies\n"
   ],
   "metadata": {
    "collapsed": false
   }
  },
  {
   "cell_type": "code",
   "execution_count": 2,
   "outputs": [],
   "source": [
    "import pandas as pd\n",
    "import numpy as np\n"
   ],
   "metadata": {
    "collapsed": false,
    "pycharm": {
     "name": "#%%\n"
    }
   }
  },
  {
   "cell_type": "code",
   "execution_count": 5,
   "outputs": [
    {
     "data": {
      "text/plain": "                      ZIBZIN  IDAvisAutorisAtionCheque             MontAnt  \\\n0  A034010041908012010710730                  71051532  40,170000000000002   \n1  A035010041908006493331734                  71051533                  20   \n2  A013010003908005150136747                  71051534                  35   \n3  A013010041908025639221029                  71051536                  20   \n4  A013010003908005556100283                  71051538                  20   \n\n       DAteTrAnsAction  CodeDecision  VerifiAnceCPT1  VerifiAnceCPT2  \\\n0  2016-03-21 07:47:38             0               1               1   \n1  2016-03-21 08:04:57             0               0               0   \n2  2016-03-21 08:06:45             0               0               0   \n3  2016-03-21 08:11:38             0               0               0   \n4  2016-03-21 08:17:11             0               0               0   \n\n   VerifiAnceCPT3  D2CB ScoringFP1  ...       TAuxImpNB_CPM EcArtNumCheq  \\\n0               1   535          0  ...  21,834061135371179            0   \n1               0   358          0  ...  12,586532410320956            0   \n2               0   199          0  ...  39,274924471299094            0   \n3               0    38          0  ...  39,274924471299094            0   \n4               0    26          0  ...  39,274924471299094            0   \n\n  NbrMAgAsin3J DiffDAteTr1  DiffDAteTr2  DiffDAteTr3          CA3TRetMtt  \\\n0            1           4            4            4  40,170000000000002   \n1            1           4            4            4                  20   \n2            1           4            4            4                  35   \n3            1           4            4            4                  20   \n4            1           4            4            4                  20   \n\n  CA3TR  Heure FlAgImpAye  \n0     0  28058          0  \n1     0  29097          0  \n2     0  29205          0  \n3     0  29498          0  \n4     0  29831          0  \n\n[5 rows x 23 columns]",
      "text/html": "<div>\n<style scoped>\n    .dataframe tbody tr th:only-of-type {\n        vertical-align: middle;\n    }\n\n    .dataframe tbody tr th {\n        vertical-align: top;\n    }\n\n    .dataframe thead th {\n        text-align: right;\n    }\n</style>\n<table border=\"1\" class=\"dataframe\">\n  <thead>\n    <tr style=\"text-align: right;\">\n      <th></th>\n      <th>ZIBZIN</th>\n      <th>IDAvisAutorisAtionCheque</th>\n      <th>MontAnt</th>\n      <th>DAteTrAnsAction</th>\n      <th>CodeDecision</th>\n      <th>VerifiAnceCPT1</th>\n      <th>VerifiAnceCPT2</th>\n      <th>VerifiAnceCPT3</th>\n      <th>D2CB</th>\n      <th>ScoringFP1</th>\n      <th>...</th>\n      <th>TAuxImpNB_CPM</th>\n      <th>EcArtNumCheq</th>\n      <th>NbrMAgAsin3J</th>\n      <th>DiffDAteTr1</th>\n      <th>DiffDAteTr2</th>\n      <th>DiffDAteTr3</th>\n      <th>CA3TRetMtt</th>\n      <th>CA3TR</th>\n      <th>Heure</th>\n      <th>FlAgImpAye</th>\n    </tr>\n  </thead>\n  <tbody>\n    <tr>\n      <th>0</th>\n      <td>A034010041908012010710730</td>\n      <td>71051532</td>\n      <td>40,170000000000002</td>\n      <td>2016-03-21 07:47:38</td>\n      <td>0</td>\n      <td>1</td>\n      <td>1</td>\n      <td>1</td>\n      <td>535</td>\n      <td>0</td>\n      <td>...</td>\n      <td>21,834061135371179</td>\n      <td>0</td>\n      <td>1</td>\n      <td>4</td>\n      <td>4</td>\n      <td>4</td>\n      <td>40,170000000000002</td>\n      <td>0</td>\n      <td>28058</td>\n      <td>0</td>\n    </tr>\n    <tr>\n      <th>1</th>\n      <td>A035010041908006493331734</td>\n      <td>71051533</td>\n      <td>20</td>\n      <td>2016-03-21 08:04:57</td>\n      <td>0</td>\n      <td>0</td>\n      <td>0</td>\n      <td>0</td>\n      <td>358</td>\n      <td>0</td>\n      <td>...</td>\n      <td>12,586532410320956</td>\n      <td>0</td>\n      <td>1</td>\n      <td>4</td>\n      <td>4</td>\n      <td>4</td>\n      <td>20</td>\n      <td>0</td>\n      <td>29097</td>\n      <td>0</td>\n    </tr>\n    <tr>\n      <th>2</th>\n      <td>A013010003908005150136747</td>\n      <td>71051534</td>\n      <td>35</td>\n      <td>2016-03-21 08:06:45</td>\n      <td>0</td>\n      <td>0</td>\n      <td>0</td>\n      <td>0</td>\n      <td>199</td>\n      <td>0</td>\n      <td>...</td>\n      <td>39,274924471299094</td>\n      <td>0</td>\n      <td>1</td>\n      <td>4</td>\n      <td>4</td>\n      <td>4</td>\n      <td>35</td>\n      <td>0</td>\n      <td>29205</td>\n      <td>0</td>\n    </tr>\n    <tr>\n      <th>3</th>\n      <td>A013010041908025639221029</td>\n      <td>71051536</td>\n      <td>20</td>\n      <td>2016-03-21 08:11:38</td>\n      <td>0</td>\n      <td>0</td>\n      <td>0</td>\n      <td>0</td>\n      <td>38</td>\n      <td>0</td>\n      <td>...</td>\n      <td>39,274924471299094</td>\n      <td>0</td>\n      <td>1</td>\n      <td>4</td>\n      <td>4</td>\n      <td>4</td>\n      <td>20</td>\n      <td>0</td>\n      <td>29498</td>\n      <td>0</td>\n    </tr>\n    <tr>\n      <th>4</th>\n      <td>A013010003908005556100283</td>\n      <td>71051538</td>\n      <td>20</td>\n      <td>2016-03-21 08:17:11</td>\n      <td>0</td>\n      <td>0</td>\n      <td>0</td>\n      <td>0</td>\n      <td>26</td>\n      <td>0</td>\n      <td>...</td>\n      <td>39,274924471299094</td>\n      <td>0</td>\n      <td>1</td>\n      <td>4</td>\n      <td>4</td>\n      <td>4</td>\n      <td>20</td>\n      <td>0</td>\n      <td>29831</td>\n      <td>0</td>\n    </tr>\n  </tbody>\n</table>\n<p>5 rows × 23 columns</p>\n</div>"
     },
     "execution_count": 5,
     "metadata": {},
     "output_type": "execute_result"
    }
   ],
   "source": [
    "data = pd.read_csv(\"data/chunk_1.txt\", sep=\";\")\n",
    "data.head()"
   ],
   "metadata": {
    "collapsed": false,
    "pycharm": {
     "name": "#%%\n"
    }
   }
  }
 ],
 "metadata": {
  "kernelspec": {
   "display_name": "Python 3",
   "language": "python",
   "name": "python3"
  },
  "language_info": {
   "codemirror_mode": {
    "name": "ipython",
    "version": 3
   },
   "file_extension": ".py",
   "mimetype": "text/x-python",
   "name": "python",
   "nbconvert_exporter": "python",
   "pygments_lexer": "ipython3",
   "version": "3.8.3"
  },
  "widgets": {
   "application/vnd.jupyter.widget-state+json": {
    "state": {},
    "version_major": 2,
    "version_minor": 0
   }
  }
 },
 "nbformat": 4,
 "nbformat_minor": 1
}