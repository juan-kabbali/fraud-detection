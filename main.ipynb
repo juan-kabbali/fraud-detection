{
 "cells": [
  {
   "cell_type": "markdown",
   "source": [
    "## Load libraries and dependencies\n"
   ],
   "metadata": {
    "collapsed": false
   }
  },
  {
   "cell_type": "code",
   "execution_count": 4,
   "outputs": [],
   "source": [
    "import pandas as pd\n",
    "import numpy as np\n"
   ],
   "metadata": {
    "collapsed": false,
    "pycharm": {
     "name": "#%%\n"
    }
   }
  },
  {
   "cell_type": "code",
   "execution_count": 5,
   "outputs": [
    {
     "data": {
      "text/plain": "   A013000077908486718390030  75525799  45,409999999999997  \\\n0  A056016006908021653208910  75525802  62,060000000000002   \n1  A083019106908043612476153  75525805               16,43   \n2  A008010087908375620025601  75525810  72,519999999999996   \n3  A013010041908016789940729  75525812                  10   \n4  A056016006908059629708610  75525813               30,43   \n\n   2016-09-20 07:33:50  0  1  1.1  1.2  551                    0.1  ...  \\\n0  2016-09-20 08:05:18  0  1    1    1    1                      0  ...   \n1  2016-09-20 08:06:20  0  0    0    0  302  1,3600993377483443E-2  ...   \n2  2016-09-20 08:22:04  0  1    1    1    1                      0  ...   \n3  2016-09-20 08:27:19  0  0    0    0  511                      0  ...   \n4  2016-09-20 08:31:12  0  0    0    0  505                      0  ...   \n\n   39,274924471299094 0.5 1.3                    4                 4.1  \\\n0  12,586532410320956   0   1                    5                   5   \n1  24,301336573511541   3   1  0,99767361111111108  1,9716319444444443   \n2  4,7236655644780345   0   1                    5                   5   \n3  39,274924471299094   0   1                    4                   4   \n4  12,586532410320956   0   1                    4                   4   \n\n                 4.2 45,409999999999997.1                 0.6  27230 0.7  \n0                  5   62,060000000000002                   0  29118   0  \n1  2,992962962962963   61,169999999999995  44,739999999999995  29180   0  \n2                  5   72,519999999999996                   0  30124   0  \n3                  4                   10                   0  30439   0  \n4                  4                30,43                   0  30672   0  \n\n[5 rows x 23 columns]",
      "text/html": "<div>\n<style scoped>\n    .dataframe tbody tr th:only-of-type {\n        vertical-align: middle;\n    }\n\n    .dataframe tbody tr th {\n        vertical-align: top;\n    }\n\n    .dataframe thead th {\n        text-align: right;\n    }\n</style>\n<table border=\"1\" class=\"dataframe\">\n  <thead>\n    <tr style=\"text-align: right;\">\n      <th></th>\n      <th>A013000077908486718390030</th>\n      <th>75525799</th>\n      <th>45,409999999999997</th>\n      <th>2016-09-20 07:33:50</th>\n      <th>0</th>\n      <th>1</th>\n      <th>1.1</th>\n      <th>1.2</th>\n      <th>551</th>\n      <th>0.1</th>\n      <th>...</th>\n      <th>39,274924471299094</th>\n      <th>0.5</th>\n      <th>1.3</th>\n      <th>4</th>\n      <th>4.1</th>\n      <th>4.2</th>\n      <th>45,409999999999997.1</th>\n      <th>0.6</th>\n      <th>27230</th>\n      <th>0.7</th>\n    </tr>\n  </thead>\n  <tbody>\n    <tr>\n      <th>0</th>\n      <td>A056016006908021653208910</td>\n      <td>75525802</td>\n      <td>62,060000000000002</td>\n      <td>2016-09-20 08:05:18</td>\n      <td>0</td>\n      <td>1</td>\n      <td>1</td>\n      <td>1</td>\n      <td>1</td>\n      <td>0</td>\n      <td>...</td>\n      <td>12,586532410320956</td>\n      <td>0</td>\n      <td>1</td>\n      <td>5</td>\n      <td>5</td>\n      <td>5</td>\n      <td>62,060000000000002</td>\n      <td>0</td>\n      <td>29118</td>\n      <td>0</td>\n    </tr>\n    <tr>\n      <th>1</th>\n      <td>A083019106908043612476153</td>\n      <td>75525805</td>\n      <td>16,43</td>\n      <td>2016-09-20 08:06:20</td>\n      <td>0</td>\n      <td>0</td>\n      <td>0</td>\n      <td>0</td>\n      <td>302</td>\n      <td>1,3600993377483443E-2</td>\n      <td>...</td>\n      <td>24,301336573511541</td>\n      <td>3</td>\n      <td>1</td>\n      <td>0,99767361111111108</td>\n      <td>1,9716319444444443</td>\n      <td>2,992962962962963</td>\n      <td>61,169999999999995</td>\n      <td>44,739999999999995</td>\n      <td>29180</td>\n      <td>0</td>\n    </tr>\n    <tr>\n      <th>2</th>\n      <td>A008010087908375620025601</td>\n      <td>75525810</td>\n      <td>72,519999999999996</td>\n      <td>2016-09-20 08:22:04</td>\n      <td>0</td>\n      <td>1</td>\n      <td>1</td>\n      <td>1</td>\n      <td>1</td>\n      <td>0</td>\n      <td>...</td>\n      <td>4,7236655644780345</td>\n      <td>0</td>\n      <td>1</td>\n      <td>5</td>\n      <td>5</td>\n      <td>5</td>\n      <td>72,519999999999996</td>\n      <td>0</td>\n      <td>30124</td>\n      <td>0</td>\n    </tr>\n    <tr>\n      <th>3</th>\n      <td>A013010041908016789940729</td>\n      <td>75525812</td>\n      <td>10</td>\n      <td>2016-09-20 08:27:19</td>\n      <td>0</td>\n      <td>0</td>\n      <td>0</td>\n      <td>0</td>\n      <td>511</td>\n      <td>0</td>\n      <td>...</td>\n      <td>39,274924471299094</td>\n      <td>0</td>\n      <td>1</td>\n      <td>4</td>\n      <td>4</td>\n      <td>4</td>\n      <td>10</td>\n      <td>0</td>\n      <td>30439</td>\n      <td>0</td>\n    </tr>\n    <tr>\n      <th>4</th>\n      <td>A056016006908059629708610</td>\n      <td>75525813</td>\n      <td>30,43</td>\n      <td>2016-09-20 08:31:12</td>\n      <td>0</td>\n      <td>0</td>\n      <td>0</td>\n      <td>0</td>\n      <td>505</td>\n      <td>0</td>\n      <td>...</td>\n      <td>12,586532410320956</td>\n      <td>0</td>\n      <td>1</td>\n      <td>4</td>\n      <td>4</td>\n      <td>4</td>\n      <td>30,43</td>\n      <td>0</td>\n      <td>30672</td>\n      <td>0</td>\n    </tr>\n  </tbody>\n</table>\n<p>5 rows × 23 columns</p>\n</div>"
     },
     "execution_count": 5,
     "metadata": {},
     "output_type": "execute_result"
    }
   ],
   "source": [
    "data = pd.read_csv(\"data/test.txt\", sep=\";\")\n",
    "data.head()"
   ],
   "metadata": {
    "collapsed": false,
    "pycharm": {
     "name": "#%%\n"
    }
   }
  }
 ],
 "metadata": {
  "kernelspec": {
   "display_name": "Python 3",
   "language": "python",
   "name": "python3"
  },
  "language_info": {
   "codemirror_mode": {
    "name": "ipython",
    "version": 3
   },
   "file_extension": ".py",
   "mimetype": "text/x-python",
   "name": "python",
   "nbconvert_exporter": "python",
   "pygments_lexer": "ipython3",
   "version": "3.8.3"
  },
  "widgets": {
   "application/vnd.jupyter.widget-state+json": {
    "state": {},
    "version_major": 2,
    "version_minor": 0
   }
  }
 },
 "nbformat": 4,
 "nbformat_minor": 1
}