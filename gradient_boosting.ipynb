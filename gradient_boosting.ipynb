{
 "cells": [
  {
   "cell_type": "code",
   "execution_count": 1,
   "outputs": [],
   "source": [
    "import pandas as pd\n",
    "from sklearn.ensemble import RandomForestClassifier, GradientBoostingClassifier\n",
    "from sklearn.metrics import confusion_matrix, recall_score, accuracy_score, precision_score, f1_score, plot_confusion_matrix, classification_report\n",
    "import seaborn as sns\n",
    "import numpy as np\n",
    "from imblearn.under_sampling import TomekLinks, ClusterCentroids, RandomUnderSampler, NearMiss\n",
    "from collections import Counter\n",
    "import matplotlib.pyplot as plt"
   ],
   "metadata": {
    "collapsed": false,
    "pycharm": {
     "name": "#%%\n"
    }
   }
  },
  {
   "cell_type": "code",
   "execution_count": 2,
   "outputs": [
    {
     "name": "stdout",
     "output_type": "stream",
     "text": [
      "TEST\n"
     ]
    },
    {
     "data": {
      "text/plain": "[(0, 263288), (1, 855)]"
     },
     "execution_count": 2,
     "metadata": {},
     "output_type": "execute_result"
    }
   ],
   "source": [
    "# LOAD TEST\n",
    "test = pd.read_csv(\"data/test_without_cols.csv\", sep=\";\", decimal=',')\n",
    "X_test = test.drop(['flagimpaye'], axis=1)\n",
    "Y_test = np.array(test['flagimpaye'])\n",
    "print(\"TEST\")\n",
    "sorted(Counter(Y_test).items())"
   ],
   "metadata": {
    "collapsed": false,
    "pycharm": {
     "name": "#%%\n"
    }
   }
  },
  {
   "cell_type": "code",
   "execution_count": 3,
   "outputs": [
    {
     "name": "stdout",
     "output_type": "stream",
     "text": [
      "ORIGINAL TRAIN\n"
     ]
    },
    {
     "data": {
      "text/plain": "[(0, 1961824), (1, 5402)]"
     },
     "execution_count": 3,
     "metadata": {},
     "output_type": "execute_result"
    }
   ],
   "source": [
    "# LOAD TRAIN\n",
    "train = pd.read_csv(\"data/train_without_cols.csv\", sep=\";\", decimal=',')\n",
    "X_original_train = train.drop(['flagimpaye'], axis=1)\n",
    "Y_original_train = np.array(train['flagimpaye'])\n",
    "print(\"ORIGINAL TRAIN\")\n",
    "sorted(Counter(Y_original_train).items())"
   ],
   "metadata": {
    "collapsed": false,
    "pycharm": {
     "name": "#%%\n"
    }
   }
  },
  {
   "cell_type": "code",
   "execution_count": 4,
   "outputs": [
    {
     "name": "stdout",
     "output_type": "stream",
     "text": [
      "RANDOM UNDER SAMPLING\n"
     ]
    },
    {
     "data": {
      "text/plain": "[(0, 534789), (1, 5402)]"
     },
     "execution_count": 4,
     "metadata": {},
     "output_type": "execute_result"
    }
   ],
   "source": [
    "# RANDOM UNDER SAMPLING\n",
    "rus = RandomUnderSampler(random_state=15, sampling_strategy={\n",
    "    0: 534789,  # 99%\n",
    "    1: 5402     # 1%\n",
    "})\n",
    "X_rus, Y_rus = rus.fit_resample(X_original_train, Y_original_train)\n",
    "print(\"RANDOM UNDER SAMPLING\")\n",
    "sorted(Counter(Y_rus).items())"
   ],
   "metadata": {
    "collapsed": false,
    "pycharm": {
     "name": "#%%\n"
    }
   }
  },
  {
   "cell_type": "code",
   "execution_count": 5,
   "outputs": [
    {
     "name": "stdout",
     "output_type": "stream",
     "text": [
      "NEAR MISS UNDER SAMPLING\n"
     ]
    },
    {
     "data": {
      "text/plain": "[(0, 48618), (1, 5402)]"
     },
     "execution_count": 5,
     "metadata": {},
     "output_type": "execute_result"
    }
   ],
   "source": [
    "# NEAR-MISS UNDER SAMPLING\n",
    "nm = NearMiss(version=1, sampling_strategy={\n",
    "    0: 48618,   # 90%\n",
    "    1: 5402     # 10%\n",
    "})\n",
    "X_nm, Y_nm = nm.fit_resample(X_rus, Y_rus)\n",
    "print(\"NEAR MISS UNDER SAMPLING\")\n",
    "sorted(Counter(Y_nm).items())"
   ],
   "metadata": {
    "collapsed": false,
    "pycharm": {
     "name": "#%%\n"
    }
   }
  },
  {
   "cell_type": "code",
   "execution_count": 6,
   "outputs": [
    {
     "data": {
      "text/plain": "GradientBoostingClassifier(learning_rate=0.5, max_depth=10, n_estimators=200)"
     },
     "execution_count": 6,
     "metadata": {},
     "output_type": "execute_result"
    }
   ],
   "source": [
    "# TRAIN MODEL\n",
    "X_train = np.array(X_nm)\n",
    "Y_train = Y_nm\n",
    "\n",
    "model = GradientBoostingClassifier(n_estimators=200, learning_rate=0.5, max_depth=10)\n",
    "\n",
    "model.fit(X_train, Y_train)"
   ],
   "metadata": {
    "collapsed": false,
    "pycharm": {
     "name": "#%%\n"
    }
   }
  },
  {
   "cell_type": "code",
   "execution_count": 8,
   "outputs": [
    {
     "name": "stdout",
     "output_type": "stream",
     "text": [
      "              precision    recall  f1-score   support\n",
      "\n",
      "           0       1.00      0.25      0.40    263288\n",
      "           1       0.00      0.78      0.01       855\n",
      "\n",
      "    accuracy                           0.25    264143\n",
      "   macro avg       0.50      0.52      0.20    264143\n",
      "weighted avg       0.99      0.25      0.40    264143\n",
      "\n"
     ]
    },
    {
     "data": {
      "text/plain": "<Figure size 432x288 with 1 Axes>",
      "image/png": "[encoded data removed]"
     },
     "metadata": {
      "needs_background": "light"
     },
     "output_type": "display_data"
    }
   ],
   "source": [
    "# TEST MODEL\n",
    "Y_predict = model.predict(X_test)\n",
    "\n",
    "ax = plt.subplot()\n",
    "sns.heatmap(confusion_matrix(Y_test, Y_predict), annot=True, ax = ax, fmt='d', cbar=False)\n",
    "ax.set_xlabel('Predicted Label')\n",
    "ax.set_ylabel('True Label')\n",
    "ax.xaxis.set_ticklabels(['non-fraud', 'fraud'])\n",
    "ax.yaxis.set_ticklabels(['non-fraud', 'fraud'])\n",
    "print(classification_report(Y_test, Y_predict))"
   ],
   "metadata": {
    "collapsed": false,
    "pycharm": {
     "name": "#%%\n"
    }
   }
  }
 ],
 "metadata": {
  "kernelspec": {
   "display_name": "Python 3",
   "language": "python",
   "name": "python3"
  },
  "language_info": {
   "codemirror_mode": {
    "name": "ipython",
    "version": 2
   },
   "file_extension": ".py",
   "mimetype": "text/x-python",
   "name": "python",
   "nbconvert_exporter": "python",
   "pygments_lexer": "ipython2",
   "version": "2.7.6"
  }
 },
 "nbformat": 4,
 "nbformat_minor": 0
}